{
 "cells": [
  {
   "cell_type": "markdown",
   "metadata": {},
   "source": [
    "# Import Packages"
   ]
  },
  {
   "cell_type": "code",
   "execution_count": 173,
   "metadata": {},
   "outputs": [],
   "source": [
    "import numpy as np\n",
    "import pandas as pd\n",
    "import matplotlib.pyplot as plt\n",
    "import datetime\n",
    "%matplotlib inline\n",
    "from datetime import datetime, timedelta"
   ]
  },
  {
   "cell_type": "markdown",
   "metadata": {},
   "source": [
    "# Reading & Loading Data"
   ]
  },
  {
   "cell_type": "code",
   "execution_count": 174,
   "metadata": {},
   "outputs": [
    {
     "name": "stderr",
     "output_type": "stream",
     "text": [
      "C:\\Users\\h226754\\AppData\\Local\\Continuum\\anaconda3\\lib\\site-packages\\IPython\\core\\interactiveshell.py:3020: DtypeWarning: Columns (3) have mixed types. Specify dtype option on import or set low_memory=False.\n",
      "  interactivity=interactivity, compiler=compiler, result=result)\n"
     ]
    }
   ],
   "source": [
    "data=pd.read_csv('NYPD_Motor_Vehicle_Collisions.csv')"
   ]
  },
  {
   "cell_type": "code",
   "execution_count": 175,
   "metadata": {},
   "outputs": [
    {
     "data": {
      "text/html": [
       "<div>\n",
       "<style scoped>\n",
       "    .dataframe tbody tr th:only-of-type {\n",
       "        vertical-align: middle;\n",
       "    }\n",
       "\n",
       "    .dataframe tbody tr th {\n",
       "        vertical-align: top;\n",
       "    }\n",
       "\n",
       "    .dataframe thead th {\n",
       "        text-align: right;\n",
       "    }\n",
       "</style>\n",
       "<table border=\"1\" class=\"dataframe\">\n",
       "  <thead>\n",
       "    <tr style=\"text-align: right;\">\n",
       "      <th></th>\n",
       "      <th>DATE</th>\n",
       "      <th>TIME</th>\n",
       "      <th>BOROUGH</th>\n",
       "      <th>ZIP CODE</th>\n",
       "      <th>LATITUDE</th>\n",
       "      <th>LONGITUDE</th>\n",
       "      <th>LOCATION</th>\n",
       "      <th>ON STREET NAME</th>\n",
       "      <th>CROSS STREET NAME</th>\n",
       "      <th>OFF STREET NAME</th>\n",
       "      <th>...</th>\n",
       "      <th>CONTRIBUTING FACTOR VEHICLE 2</th>\n",
       "      <th>CONTRIBUTING FACTOR VEHICLE 3</th>\n",
       "      <th>CONTRIBUTING FACTOR VEHICLE 4</th>\n",
       "      <th>CONTRIBUTING FACTOR VEHICLE 5</th>\n",
       "      <th>UNIQUE KEY</th>\n",
       "      <th>VEHICLE TYPE CODE 1</th>\n",
       "      <th>VEHICLE TYPE CODE 2</th>\n",
       "      <th>VEHICLE TYPE CODE 3</th>\n",
       "      <th>VEHICLE TYPE CODE 4</th>\n",
       "      <th>VEHICLE TYPE CODE 5</th>\n",
       "    </tr>\n",
       "  </thead>\n",
       "  <tbody>\n",
       "    <tr>\n",
       "      <th>0</th>\n",
       "      <td>04/28/2019</td>\n",
       "      <td>0:00</td>\n",
       "      <td>BROOKLYN</td>\n",
       "      <td>11208</td>\n",
       "      <td>40.685050</td>\n",
       "      <td>-73.875950</td>\n",
       "      <td>(40.68505, -73.87595)</td>\n",
       "      <td>NaN</td>\n",
       "      <td>NaN</td>\n",
       "      <td>126       CHESTNUT STREET</td>\n",
       "      <td>...</td>\n",
       "      <td>Passing Too Closely</td>\n",
       "      <td>NaN</td>\n",
       "      <td>NaN</td>\n",
       "      <td>NaN</td>\n",
       "      <td>4122662</td>\n",
       "      <td>Sedan</td>\n",
       "      <td>NaN</td>\n",
       "      <td>NaN</td>\n",
       "      <td>NaN</td>\n",
       "      <td>NaN</td>\n",
       "    </tr>\n",
       "    <tr>\n",
       "      <th>1</th>\n",
       "      <td>04/28/2019</td>\n",
       "      <td>0:00</td>\n",
       "      <td>QUEENS</td>\n",
       "      <td>11419</td>\n",
       "      <td>40.690490</td>\n",
       "      <td>-73.816086</td>\n",
       "      <td>(40.69049, -73.816086)</td>\n",
       "      <td>103 AVENUE</td>\n",
       "      <td>130 STREET</td>\n",
       "      <td>NaN</td>\n",
       "      <td>...</td>\n",
       "      <td>Unspecified</td>\n",
       "      <td>NaN</td>\n",
       "      <td>NaN</td>\n",
       "      <td>NaN</td>\n",
       "      <td>4121710</td>\n",
       "      <td>Station Wagon/Sport Utility Vehicle</td>\n",
       "      <td>Station Wagon/Sport Utility Vehicle</td>\n",
       "      <td>NaN</td>\n",
       "      <td>NaN</td>\n",
       "      <td>NaN</td>\n",
       "    </tr>\n",
       "    <tr>\n",
       "      <th>2</th>\n",
       "      <td>04/28/2019</td>\n",
       "      <td>0:00</td>\n",
       "      <td>NaN</td>\n",
       "      <td>NaN</td>\n",
       "      <td>40.699955</td>\n",
       "      <td>-73.986820</td>\n",
       "      <td>(40.699955, -73.98682)</td>\n",
       "      <td>JAY STREET</td>\n",
       "      <td>SANDS STREET</td>\n",
       "      <td>NaN</td>\n",
       "      <td>...</td>\n",
       "      <td>Unspecified</td>\n",
       "      <td>NaN</td>\n",
       "      <td>NaN</td>\n",
       "      <td>NaN</td>\n",
       "      <td>4122602</td>\n",
       "      <td>Sedan</td>\n",
       "      <td>Bike</td>\n",
       "      <td>NaN</td>\n",
       "      <td>NaN</td>\n",
       "      <td>NaN</td>\n",
       "    </tr>\n",
       "    <tr>\n",
       "      <th>3</th>\n",
       "      <td>04/28/2019</td>\n",
       "      <td>0:01</td>\n",
       "      <td>QUEENS</td>\n",
       "      <td>11369</td>\n",
       "      <td>40.760900</td>\n",
       "      <td>-73.870180</td>\n",
       "      <td>(40.7609, -73.87018)</td>\n",
       "      <td>99 STREET</td>\n",
       "      <td>31 AVENUE</td>\n",
       "      <td>NaN</td>\n",
       "      <td>...</td>\n",
       "      <td>Unspecified</td>\n",
       "      <td>NaN</td>\n",
       "      <td>NaN</td>\n",
       "      <td>NaN</td>\n",
       "      <td>4123523</td>\n",
       "      <td>Sedan</td>\n",
       "      <td>Station Wagon/Sport Utility Vehicle</td>\n",
       "      <td>NaN</td>\n",
       "      <td>NaN</td>\n",
       "      <td>NaN</td>\n",
       "    </tr>\n",
       "    <tr>\n",
       "      <th>4</th>\n",
       "      <td>04/28/2019</td>\n",
       "      <td>0:05</td>\n",
       "      <td>BROOKLYN</td>\n",
       "      <td>11233</td>\n",
       "      <td>40.676884</td>\n",
       "      <td>-73.919230</td>\n",
       "      <td>(40.676884, -73.91923)</td>\n",
       "      <td>HOWARD AVENUE</td>\n",
       "      <td>ATLANTIC AVENUE</td>\n",
       "      <td>NaN</td>\n",
       "      <td>...</td>\n",
       "      <td>Unspecified</td>\n",
       "      <td>Unspecified</td>\n",
       "      <td>NaN</td>\n",
       "      <td>NaN</td>\n",
       "      <td>4122095</td>\n",
       "      <td>Station Wagon/Sport Utility Vehicle</td>\n",
       "      <td>Sedan</td>\n",
       "      <td>Sedan</td>\n",
       "      <td>NaN</td>\n",
       "      <td>NaN</td>\n",
       "    </tr>\n",
       "  </tbody>\n",
       "</table>\n",
       "<p>5 rows × 29 columns</p>\n",
       "</div>"
      ],
      "text/plain": [
       "         DATE  TIME   BOROUGH ZIP CODE   LATITUDE  LONGITUDE  \\\n",
       "0  04/28/2019  0:00  BROOKLYN    11208  40.685050 -73.875950   \n",
       "1  04/28/2019  0:00    QUEENS    11419  40.690490 -73.816086   \n",
       "2  04/28/2019  0:00       NaN      NaN  40.699955 -73.986820   \n",
       "3  04/28/2019  0:01    QUEENS    11369  40.760900 -73.870180   \n",
       "4  04/28/2019  0:05  BROOKLYN    11233  40.676884 -73.919230   \n",
       "\n",
       "                 LOCATION                    ON STREET NAME CROSS STREET NAME  \\\n",
       "0   (40.68505, -73.87595)                               NaN               NaN   \n",
       "1  (40.69049, -73.816086)  103 AVENUE                              130 STREET   \n",
       "2  (40.699955, -73.98682)  JAY STREET                            SANDS STREET   \n",
       "3    (40.7609, -73.87018)  99 STREET                                31 AVENUE   \n",
       "4  (40.676884, -73.91923)  HOWARD AVENUE                      ATLANTIC AVENUE   \n",
       "\n",
       "                            OFF STREET NAME         ...          \\\n",
       "0  126       CHESTNUT STREET                        ...           \n",
       "1                                       NaN         ...           \n",
       "2                                       NaN         ...           \n",
       "3                                       NaN         ...           \n",
       "4                                       NaN         ...           \n",
       "\n",
       "   CONTRIBUTING FACTOR VEHICLE 2  CONTRIBUTING FACTOR VEHICLE 3  \\\n",
       "0            Passing Too Closely                            NaN   \n",
       "1                    Unspecified                            NaN   \n",
       "2                    Unspecified                            NaN   \n",
       "3                    Unspecified                            NaN   \n",
       "4                    Unspecified                    Unspecified   \n",
       "\n",
       "   CONTRIBUTING FACTOR VEHICLE 4  CONTRIBUTING FACTOR VEHICLE 5  UNIQUE KEY  \\\n",
       "0                            NaN                            NaN     4122662   \n",
       "1                            NaN                            NaN     4121710   \n",
       "2                            NaN                            NaN     4122602   \n",
       "3                            NaN                            NaN     4123523   \n",
       "4                            NaN                            NaN     4122095   \n",
       "\n",
       "                   VEHICLE TYPE CODE 1                  VEHICLE TYPE CODE 2  \\\n",
       "0                                Sedan                                  NaN   \n",
       "1  Station Wagon/Sport Utility Vehicle  Station Wagon/Sport Utility Vehicle   \n",
       "2                                Sedan                                 Bike   \n",
       "3                                Sedan  Station Wagon/Sport Utility Vehicle   \n",
       "4  Station Wagon/Sport Utility Vehicle                                Sedan   \n",
       "\n",
       "   VEHICLE TYPE CODE 3 VEHICLE TYPE CODE 4 VEHICLE TYPE CODE 5  \n",
       "0                  NaN                 NaN                 NaN  \n",
       "1                  NaN                 NaN                 NaN  \n",
       "2                  NaN                 NaN                 NaN  \n",
       "3                  NaN                 NaN                 NaN  \n",
       "4                Sedan                 NaN                 NaN  \n",
       "\n",
       "[5 rows x 29 columns]"
      ]
     },
     "execution_count": 175,
     "metadata": {},
     "output_type": "execute_result"
    }
   ],
   "source": [
    "data.head(5)"
   ]
  },
  {
   "cell_type": "code",
   "execution_count": 176,
   "metadata": {},
   "outputs": [
    {
     "data": {
      "text/plain": [
       "Index(['DATE', 'TIME', 'BOROUGH', 'ZIP CODE', 'LATITUDE', 'LONGITUDE',\n",
       "       'LOCATION', 'ON STREET NAME', 'CROSS STREET NAME', 'OFF STREET NAME',\n",
       "       'NUMBER OF PERSONS INJURED', 'NUMBER OF PERSONS KILLED',\n",
       "       'NUMBER OF PEDESTRIANS INJURED', 'NUMBER OF PEDESTRIANS KILLED',\n",
       "       'NUMBER OF CYCLIST INJURED', 'NUMBER OF CYCLIST KILLED',\n",
       "       'NUMBER OF MOTORIST INJURED', 'NUMBER OF MOTORIST KILLED',\n",
       "       'CONTRIBUTING FACTOR VEHICLE 1', 'CONTRIBUTING FACTOR VEHICLE 2',\n",
       "       'CONTRIBUTING FACTOR VEHICLE 3', 'CONTRIBUTING FACTOR VEHICLE 4',\n",
       "       'CONTRIBUTING FACTOR VEHICLE 5', 'UNIQUE KEY', 'VEHICLE TYPE CODE 1',\n",
       "       'VEHICLE TYPE CODE 2', 'VEHICLE TYPE CODE 3', 'VEHICLE TYPE CODE 4',\n",
       "       'VEHICLE TYPE CODE 5'],\n",
       "      dtype='object')"
      ]
     },
     "execution_count": 176,
     "metadata": {},
     "output_type": "execute_result"
    }
   ],
   "source": [
    "data.columns"
   ]
  },
  {
   "cell_type": "markdown",
   "metadata": {},
   "source": [
    "# Answers to Section 1 Questions"
   ]
  },
  {
   "cell_type": "markdown",
   "metadata": {},
   "source": [
    "# Section 1: Question 1"
   ]
  },
  {
   "cell_type": "code",
   "execution_count": 177,
   "metadata": {},
   "outputs": [
    {
     "name": "stdout",
     "output_type": "stream",
     "text": [
      "368034.0\n"
     ]
    }
   ],
   "source": [
    "found = data[data['DATE'].str.contains('2019')]\n",
    "TNOPI_Dec_2018=data['NUMBER OF PERSONS INJURED'].sum()-found['NUMBER OF PERSONS INJURED'].sum()\n",
    "print(TNOPI_Dec_2018)"
   ]
  },
  {
   "cell_type": "markdown",
   "metadata": {},
   "source": [
    "# Section 1: Question 2"
   ]
  },
  {
   "cell_type": "code",
   "execution_count": 178,
   "metadata": {},
   "outputs": [
    {
     "name": "stdout",
     "output_type": "stream",
     "text": [
      "0.30961778079314234\n"
     ]
    }
   ],
   "source": [
    "data_2016 = data[data['DATE'].str.contains('2016')]\n",
    "data_2016_non_nan=data_2016.dropna(subset=['BOROUGH'])\n",
    "Total_collisions_2016=data_2016_non_nan['BOROUGH'].count()\n",
    "found_Brooklyn=data_2016_non_nan[data_2016_non_nan['BOROUGH'].str.contains('BROOKLYN')]\n",
    "All_Brooklyn=found_Brooklyn['BOROUGH'].count()\n",
    "proportion_Brooklyn=(All_Brooklyn/Total_collisions_2016)\n",
    "print(proportion_Brooklyn)"
   ]
  },
  {
   "cell_type": "markdown",
   "metadata": {},
   "source": [
    "# Section 1: Question 3 "
   ]
  },
  {
   "cell_type": "code",
   "execution_count": 179,
   "metadata": {},
   "outputs": [],
   "source": [
    "#data_2016_non_nan[['NUMBER OF CYCLIST INJURED', 'NUMBER OF CYCLIST KILLED', 'DATE']]"
   ]
  },
  {
   "cell_type": "code",
   "execution_count": 180,
   "metadata": {},
   "outputs": [
    {
     "name": "stdout",
     "output_type": "stream",
     "text": [
      "0.021654742632339373\n"
     ]
    }
   ],
   "source": [
    "NOI=data_2016['NUMBER OF CYCLIST INJURED'].astype(bool).sum(axis=0)\n",
    "NOK=data_2016['NUMBER OF CYCLIST KILLED'].astype(bool).sum(axis=0)\n",
    "INJURED_OR_KILLED=(NOI+NOK)/(len(data_2016))\n",
    "print(INJURED_OR_KILLED)"
   ]
  },
  {
   "cell_type": "markdown",
   "metadata": {},
   "source": [
    "# Section 1: Question 4 "
   ]
  },
  {
   "cell_type": "code",
   "execution_count": 181,
   "metadata": {},
   "outputs": [
    {
     "name": "stdout",
     "output_type": "stream",
     "text": [
      "         BOROUGH  Population\n",
      "0      The Bronx     1471160\n",
      "1       Brooklyn     2648771\n",
      "2      Manhattan     1664727\n",
      "3         Queens     2358582\n",
      "4  Staten Island      479458\n",
      "1.1447556201141194e-05\n"
     ]
    },
    {
     "name": "stderr",
     "output_type": "stream",
     "text": [
      "C:\\Users\\h226754\\AppData\\Local\\Continuum\\anaconda3\\lib\\site-packages\\ipykernel_launcher.py:15: SettingWithCopyWarning: \n",
      "A value is trying to be set on a copy of a slice from a DataFrame.\n",
      "Try using .loc[row_indexer,col_indexer] = value instead\n",
      "\n",
      "See the caveats in the documentation: http://pandas.pydata.org/pandas-docs/stable/indexing.html#indexing-view-versus-copy\n",
      "  from ipykernel import kernelapp as app\n"
     ]
    },
    {
     "data": {
      "text/plain": [
       "3    Queens\n",
       "Name: BOROUGH, dtype: object"
      ]
     },
     "execution_count": 181,
     "metadata": {},
     "output_type": "execute_result"
    }
   ],
   "source": [
    "pops = {'BOROUGH': ['The Bronx', 'Brooklyn','Manhattan','Queens','Staten Island'], 'Population': [1471160, 2648771 ,1664727,2358582,479458]} \n",
    "df = pd.DataFrame(data=pops )\n",
    "print(df)\n",
    "\n",
    "data_2017=data[data['DATE'].str.contains('2017')]\n",
    "mod_data_2017=data_2017[['BOROUGH','CONTRIBUTING FACTOR VEHICLE 1','CONTRIBUTING FACTOR VEHICLE 2','CONTRIBUTING FACTOR VEHICLE 3','CONTRIBUTING FACTOR VEHICLE 4','CONTRIBUTING FACTOR VEHICLE 5']]\n",
    "mod_data_2017_non_nan=mod_data_2017.dropna(subset=['BOROUGH','CONTRIBUTING FACTOR VEHICLE 1','CONTRIBUTING FACTOR VEHICLE 2','CONTRIBUTING FACTOR VEHICLE 3','CONTRIBUTING FACTOR VEHICLE 4','CONTRIBUTING FACTOR VEHICLE 5'])\n",
    "inds_1=[mod_data_2017_non_nan['CONTRIBUTING FACTOR VEHICLE 1'].str.contains(\"Alcohol\")]\n",
    "inds_2=[mod_data_2017_non_nan['CONTRIBUTING FACTOR VEHICLE 2'].str.contains(\"Alcohol\")]\n",
    "inds_3=[mod_data_2017_non_nan['CONTRIBUTING FACTOR VEHICLE 3'].str.contains(\"Alcohol\")]\n",
    "inds_4=[mod_data_2017_non_nan['CONTRIBUTING FACTOR VEHICLE 4'].str.contains(\"Alcohol\")]\n",
    "inds_5=[mod_data_2017_non_nan['CONTRIBUTING FACTOR VEHICLE 5'].str.contains(\"Alcohol\")]\n",
    "alcoholic_inds=inds_1 or inds_2\n",
    "\n",
    "mod_data_2017_non_nan['alcoholic_inds']=ttt\n",
    "mod_data_2017_non_nan2=mod_data_2017_non_nan[mod_data_2017_non_nan['alcoholic_inds']==True]\n",
    "grouped=mod_data_2017_non_nan2[mod_data_2017_non_nan2['alcoholic_inds']].groupby('BOROUGH').count()\n",
    "df['Alcoholic_accidents']=np.array(grouped['alcoholic_inds'])\n",
    "max_ratio=((df['Alcoholic_accidents']/df['Population']).max())\n",
    "\n",
    "print(max_ratio)\n",
    "max_borough=((df['Alcoholic_accidents']/df['Population'])==max_ratio)\n",
    "df['BOROUGH'][max_borough]\n"
   ]
  },
  {
   "cell_type": "code",
   "execution_count": 182,
   "metadata": {},
   "outputs": [],
   "source": [
    "#ttt=np.array(alcoholic_inds)[0]"
   ]
  },
  {
   "cell_type": "code",
   "execution_count": null,
   "metadata": {},
   "outputs": [],
   "source": []
  },
  {
   "cell_type": "code",
   "execution_count": 183,
   "metadata": {
    "scrolled": true
   },
   "outputs": [
    {
     "name": "stderr",
     "output_type": "stream",
     "text": [
      "C:\\Users\\h226754\\AppData\\Local\\Continuum\\anaconda3\\lib\\site-packages\\ipykernel_launcher.py:1: SettingWithCopyWarning: \n",
      "A value is trying to be set on a copy of a slice from a DataFrame.\n",
      "Try using .loc[row_indexer,col_indexer] = value instead\n",
      "\n",
      "See the caveats in the documentation: http://pandas.pydata.org/pandas-docs/stable/indexing.html#indexing-view-versus-copy\n",
      "  \"\"\"Entry point for launching an IPython kernel.\n"
     ]
    }
   ],
   "source": [
    "mod_data_2017_non_nan['alcoholic_inds']=ttt"
   ]
  },
  {
   "cell_type": "markdown",
   "metadata": {},
   "source": [
    "# Section 1: Question 5"
   ]
  },
  {
   "cell_type": "code",
   "execution_count": 184,
   "metadata": {},
   "outputs": [
    {
     "name": "stdout",
     "output_type": "stream",
     "text": [
      "5703\n"
     ]
    }
   ],
   "source": [
    "data_2016=data_2016.dropna(subset=['ZIP CODE'])\n",
    "Cars_1=data_2016.groupby(['ZIP CODE'])['VEHICLE TYPE CODE 1'].count()\n",
    "Cars_2=data_2016.groupby(['ZIP CODE'])['VEHICLE TYPE CODE 2'].count()\n",
    "Cars_3=data_2016.groupby(['ZIP CODE'])['VEHICLE TYPE CODE 3'].count()\n",
    "Cars_4=data_2016.groupby(['ZIP CODE'])['VEHICLE TYPE CODE 4'].count()\n",
    "Cars_5=data_2016.groupby(['ZIP CODE'])['VEHICLE TYPE CODE 5'].count()\n",
    "\n",
    "Cars=(Cars_1+Cars_2+Cars_3+Cars_4+Cars_5)\n",
    "max_value = max(Cars)\n",
    "print(max_value)\n"
   ]
  },
  {
   "cell_type": "markdown",
   "metadata": {},
   "source": [
    "# Section 1: Question 6"
   ]
  },
  {
   "cell_type": "code",
   "execution_count": 185,
   "metadata": {},
   "outputs": [],
   "source": [
    "data_2013 = data[data['DATE'].str.contains('2013')]\n",
    "data_2014 = data[data['DATE'].str.contains('2014')]\n",
    "data_2015 = data[data['DATE'].str.contains('2015')]\n",
    "data_2016 = data[data['DATE'].str.contains('2016')]\n",
    "data_2017 = data[data['DATE'].str.contains('2017')]\n",
    "data_2018 = data[data['DATE'].str.contains('2018')]"
   ]
  },
  {
   "cell_type": "code",
   "execution_count": 186,
   "metadata": {},
   "outputs": [],
   "source": [
    "#len(data_2013), len(data_2014),len(data_2015),len(data_2016),len(data_2017),len(data_2018)"
   ]
  },
  {
   "cell_type": "code",
   "execution_count": 187,
   "metadata": {},
   "outputs": [
    {
     "name": "stdout",
     "output_type": "stream",
     "text": [
      "intercept: [-12775821.07619048]\n",
      "slope: [[6447.91428571]]\n",
      "6447.914285714286\n"
     ]
    },
    {
     "data": {
      "image/png": "[encoded data removed]",
      "text/plain": [
       "<Figure size 432x288 with 1 Axes>"
      ]
     },
     "metadata": {
      "needs_background": "light"
     },
     "output_type": "display_data"
    }
   ],
   "source": [
    "from sklearn.linear_model import LinearRegression\n",
    "y = np.array([len(data_2013), len(data_2014),len(data_2015),len(data_2016),len(data_2017),len(data_2018)])\n",
    "x = np.array([2013,2014,2015,2016,2017,2018])\n",
    "model = LinearRegression()\n",
    "x=x.reshape(-1, 1)\n",
    "y=y.reshape(-1, 1)\n",
    "model.fit(x, y)\n",
    "print('intercept:', model.intercept_)\n",
    "print('slope:', model.coef_)\n",
    "plt.plot(x,y)\n",
    "print(float(model.coef_))"
   ]
  },
  {
   "cell_type": "code",
   "execution_count": null,
   "metadata": {},
   "outputs": [],
   "source": []
  }
 ],
 "metadata": {
  "kernelspec": {
   "display_name": "Python 3",
   "language": "python",
   "name": "python3"
  },
  "language_info": {
   "codemirror_mode": {
    "name": "ipython",
    "version": 3
   },
   "file_extension": ".py",
   "mimetype": "text/x-python",
   "name": "python",
   "nbconvert_exporter": "python",
   "pygments_lexer": "ipython3",
   "version": "3.7.1"
  }
 },
 "nbformat": 4,
 "nbformat_minor": 2
}
