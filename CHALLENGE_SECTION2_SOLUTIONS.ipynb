{
 "cells": [
  {
   "cell_type": "markdown",
   "metadata": {},
   "source": [
    "# Import Packages"
   ]
  },
  {
   "cell_type": "code",
   "execution_count": 39,
   "metadata": {},
   "outputs": [],
   "source": [
    "import numpy as np\n",
    "import pandas as pd\n",
    "import matplotlib.pyplot as plt\n",
    "import datetime\n",
    "%matplotlib inline\n",
    "from datetime import datetime, timedelta"
   ]
  },
  {
   "cell_type": "markdown",
   "metadata": {},
   "source": [
    "# SECTION 2, Questions 1&2"
   ]
  },
  {
   "cell_type": "code",
   "execution_count": 40,
   "metadata": {},
   "outputs": [],
   "source": [
    "def is_acceptable(ent):\n",
    "    answer=True\n",
    "    for i in range (len(ent)-1):\n",
    "        if (ent[i]==ent[i+1]):\n",
    "            answer=False\n",
    "            break\n",
    "    return answer\n",
    "            "
   ]
  },
  {
   "cell_type": "code",
   "execution_count": 41,
   "metadata": {},
   "outputs": [],
   "source": [
    "# Question 1\n",
    "\n",
    "import itertools\n",
    "\n",
    "n=4\n",
    "k=4\n",
    "j=2\n",
    "\n",
    "\n",
    "\n",
    "comb_list=list(range(1,k+1))\n",
    "\n",
    "comb = [p for p in itertools.product(comb_list, repeat=n-2)]\n",
    "all_nums=[]\n",
    "\n",
    "all_nums_conter=0\n",
    "for i in range(len(comb)):\n",
    "    numb=list(comb[i])\n",
    "    numb2=numb.copy()\n",
    "    numb2.append(j)\n",
    "    numb2.insert(0,1)\n",
    "    #print(numb21)\n",
    "    if (is_acceptable(numb2)):\n",
    "        all_nums.append(numb2)\n",
    "        all_nums_conter=all_nums_conter+1\n",
    "\n",
    "    "
   ]
  },
  {
   "cell_type": "code",
   "execution_count": 42,
   "metadata": {
    "scrolled": true
   },
   "outputs": [
    {
     "name": "stdout",
     "output_type": "stream",
     "text": [
      "7\n"
     ]
    }
   ],
   "source": [
    "print(all_nums_conter)"
   ]
  }
 ],
 "metadata": {
  "kernelspec": {
   "display_name": "Python 3",
   "language": "python",
   "name": "python3"
  },
  "language_info": {
   "codemirror_mode": {
    "name": "ipython",
    "version": 3
   },
   "file_extension": ".py",
   "mimetype": "text/x-python",
   "name": "python",
   "nbconvert_exporter": "python",
   "pygments_lexer": "ipython3",
   "version": "3.7.1"
  }
 },
 "nbformat": 4,
 "nbformat_minor": 2
}
